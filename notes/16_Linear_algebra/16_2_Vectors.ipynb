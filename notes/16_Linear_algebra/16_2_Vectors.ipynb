{
 "cells": [
  {
   "cell_type": "markdown",
   "metadata": {},
   "source": [
    "## Chapter 16: Elements of linear algebra"
   ]
  },
  {
   "cell_type": "markdown",
   "metadata": {},
   "source": [
    "# C.2 Vectors and Vector Operations"
   ]
  },
  {
   "cell_type": "markdown",
   "metadata": {},
   "source": [
    "In this Section we review the concept of a elementary arithmetic performed with vectors, sometimes referred to as 'arrays'.  "
   ]
  },
  {
   "cell_type": "code",
   "execution_count": null,
   "metadata": {},
   "outputs": [],
   "source": [
    "# This code cell will not be shown in the HTML version of this notebook\n",
    "# imports from custom library\n",
    "import sys\n",
    "sys.path.append('../../')\n",
    "import numpy as np\n",
    "import matplotlib.pyplot as plt\n",
    "from mlrefined_libraries import linear_algebra_library as linlib\n",
    "\n",
    "%load_ext autoreload\n",
    "%autoreload 2"
   ]
  },
  {
   "cell_type": "markdown",
   "metadata": {},
   "source": [
    "##  Vectors and vector operations"
   ]
  },
  {
   "cell_type": "markdown",
   "metadata": {},
   "source": [
    "### Row and column vectors, dimensions"
   ]
  },
  {
   "cell_type": "markdown",
   "metadata": {},
   "source": [
    "A *vector* is another word for *a listing of numbers*.  For example the following\n",
    "\n",
    "$$\n",
    "[2.1, \\, \\, -5.7, \\, \\, 13]\n",
    "$$\n",
    "\n",
    "is a vector of three elements, also referred to as a vector of length three or a vector of dimension $1\\times3$.  The '1' in the first position tells us that this is a row vector, while the '3' says how many elements the vector has.  In general a vector can be of arbitrary length, and can contain numbers, variables, or both.  For example\n",
    "\n",
    "$$\n",
    "[x_1, \\,\\, x_2, \\,\\, x_3, \\,\\, x_4]\n",
    "$$\n",
    "\n",
    "is a vector of four variables, of dimension $1\\times4$."
   ]
  },
  {
   "cell_type": "markdown",
   "metadata": {},
   "source": [
    "When listing the numbers / variables out horizontally we call the vector a *row vector*.  Of course we can also list them just as well vertically, e.g., we could write the first example above as a column\n",
    "\n",
    "\\begin{bmatrix}\n",
    "2.1  \\\\\n",
    "-5.7 \\\\\n",
    "13 \\\\\n",
    "\\end{bmatrix}\n",
    "\n",
    "in which case we refer to this as a *column vector* of length three or a vector of dimension $3\\times 1$.  Notice that the row version of this had dimension $1\\times 3$.  Here the '1' in the second entry tells us that the vector is a column.   "
   ]
  },
  {
   "cell_type": "markdown",
   "metadata": {},
   "source": [
    "### Transposing vectors"
   ]
  },
  {
   "cell_type": "markdown",
   "metadata": {},
   "source": [
    "We can swap back and forth between a row and column version of a vector by *transposing* it.  This is an operation performed on a single vector, and simply turns a row vector into an equivalent column vector and vice-versa.  This operation is denoted by a *superscript T* placed just to the right and above a vector.  For example we can transpose a column into a row vector like this\n",
    "\n",
    "$$\n",
    "{\\begin{bmatrix}\n",
    "2.1  \\\\\n",
    "-5.7 \\\\\n",
    "13 \\\\\n",
    "\\end{bmatrix}}^{\\,T}\n",
    "= [2.1, \\, \\, -5.7, \\, \\, 13]\n",
    "$$\n",
    "\n",
    "and likewise a row into a column vector like this \n",
    "\n",
    "$$\n",
    "[2.1, \\, \\, -5.7, \\, \\, 13]^{\\,T} = \n",
    "{\\begin{bmatrix}\n",
    "2.1  \\\\\n",
    "-5.7 \\\\\n",
    "13 \\\\\n",
    "\\end{bmatrix}}\n",
    "$$"
   ]
  },
  {
   "cell_type": "markdown",
   "metadata": {},
   "source": [
    "### Vector notation"
   ]
  },
  {
   "cell_type": "markdown",
   "metadata": {},
   "source": [
    "To discuss vectors more generally we use algebraic notation, typically a *bold lowercase (often English) letter*.  This notation does not denote whether or not the vector is a row or column, or how many elements it contains: such information must be given explicitly.  For example we can denote a vector of numbers\n",
    "\n",
    "$$\n",
    "\\mathbf{x} = [2.1, \\, \\, -5.7, \\, \\, 13]\n",
    "$$\n",
    "\n",
    "Here the fact that $\\mathbf{x}$ represents a row vector with three elements is clear from its definition.  Thus when we say $\\mathbf{x}^T$ it is clear from its definition that\n",
    "\n",
    "$$\n",
    "\\mathbf{x} = {\\begin{bmatrix}\n",
    "2.1  \\\\\n",
    "-5.7 \\\\\n",
    "13 \\\\\n",
    "\\end{bmatrix}}\n",
    "$$"
   ]
  },
  {
   "cell_type": "markdown",
   "metadata": {},
   "source": [
    "We could also define $\\mathbf{x}$ to be the vector of variables like\n",
    "\n",
    "$$\n",
    "\\mathbf{x} = \n",
    "{\\begin{bmatrix}\n",
    "x_1  \\\\\n",
    "x_2 \\\\\n",
    "x_3 \\\\\n",
    "x_4 \\\\\n",
    "\\end{bmatrix}}\n",
    "$$\n",
    "\n",
    "Again nothing about the notation $\\mathbf{x}$ itself tells us whether or not it is a row or column vector, nor how many elements it contains.  This information is given explicitly when we define what the notation means here. "
   ]
  },
  {
   "cell_type": "markdown",
   "metadata": {},
   "source": [
    "### The geometric interpretation of vectors"
   ]
  },
  {
   "cell_type": "markdown",
   "metadata": {},
   "source": [
    "Vectors are often interpreted geometrically, and can be drawn when in two or three dimensions.  A single vector is usually drawn as either a point or an arrow stemming from the origin.  In the next cell we illustrate both.  The 'point' version is in the left panel, with the 'arrow' version being in the right.  In both cases we simply plot each coordinate of the vector as a coordinate in the Cartesian plane.  Regardless of whether a vector is a column or row it is drawn the same."
   ]
  },
  {
   "cell_type": "code",
   "execution_count": 2,
   "metadata": {},
   "outputs": [
    {
     "data": {
      "image/png": "[encoded data removed]",
      "text/plain": [
       "<Figure size 864x288 with 2 Axes>"
      ]
     },
     "metadata": {
      "needs_background": "light"
     },
     "output_type": "display_data"
    }
   ],
   "source": [
    "# This code cell will not be shown in the HTML version of this notebook\n",
    "# import numpy, define a vectors\n",
    "import numpy as np\n",
    "vec1 = np.asarray([3,3])\n",
    "plotter = linlib.vector_plots.single_plot(vec1)"
   ]
  },
  {
   "cell_type": "markdown",
   "metadata": {},
   "source": [
    "### Defining a vector in numpy, transpose operation"
   ]
  },
  {
   "cell_type": "markdown",
   "metadata": {},
   "source": [
    "Vectors are referred to more generally as 'arrays', which is the nomenclature used to constructs a vector in numpy as shown in the following cell."
   ]
  },
  {
   "cell_type": "code",
   "execution_count": 3,
   "metadata": {},
   "outputs": [
    {
     "name": "stdout",
     "output_type": "stream",
     "text": [
      "[  2.1  -5.7  13. ]\n"
     ]
    }
   ],
   "source": [
    "# import statement for numpy\n",
    "import numpy as np   \n",
    "\n",
    "# construct a vector (a.k.a. an array), and print it out\n",
    "x = np.asarray([2.1,-5.7,13])\n",
    "print (x)"
   ]
  },
  {
   "cell_type": "markdown",
   "metadata": {},
   "source": [
    "By default a numpy array is initialized in this way is *dimensionless* - technically speaking neither a row nor a column vector - which you can see by printing its 'shape' which is numpy-speak for dimensions."
   ]
  },
  {
   "cell_type": "code",
   "execution_count": 4,
   "metadata": {},
   "outputs": [
    {
     "name": "stdout",
     "output_type": "stream",
     "text": [
      "(3,)\n"
     ]
    }
   ],
   "source": [
    "# print out the vector's initial shape (or dimensions)\n",
    "print (np.shape(x))"
   ]
  },
  {
   "cell_type": "markdown",
   "metadata": {},
   "source": [
    "Thus we must explicitly define whether $\\mathbf{x}$ is a row or column vector.  We can do this by re-defining its shape as shown in the next cell."
   ]
  },
  {
   "cell_type": "code",
   "execution_count": 5,
   "metadata": {},
   "outputs": [
    {
     "name": "stdout",
     "output_type": "stream",
     "text": [
      "----- x as a row vector ----\n",
      "[[  2.1  -5.7  13. ]]\n",
      "----- x as a column vector ----\n",
      "[[  2.1]\n",
      " [ -5.7]\n",
      " [ 13. ]]\n"
     ]
    }
   ],
   "source": [
    "# reshape x to be a row vector and print\n",
    "x.shape = (1,3) \n",
    "print ('----- x as a row vector ----')\n",
    "print (x)\n",
    "\n",
    "# reshape x to be a column vector and print\n",
    "x.shape = (3,1)\n",
    "print ('----- x as a column vector ----')\n",
    "print (x)"
   ]
  },
  {
   "cell_type": "markdown",
   "metadata": {},
   "source": [
    "The notation for transposing a vector in numpy looks like\n",
    "\n",
    "                <numpy_array>.T\n",
    "                \n",
    "We illustrate on $\\mathbf{x}$ in the next cell.  Notice that we last set $\\mathbf{x}$ to be a column vector prior to activating the cell below."
   ]
  },
  {
   "cell_type": "code",
   "execution_count": 6,
   "metadata": {},
   "outputs": [
    {
     "name": "stdout",
     "output_type": "stream",
     "text": [
      "----- the original vector - a column -----\n",
      "[[  2.1]\n",
      " [ -5.7]\n",
      " [ 13. ]]\n",
      "----- the transpose - now a row vector ----- \n",
      "[[  2.1  -5.7  13. ]]\n"
     ]
    }
   ],
   "source": [
    "print ('----- the original vector - a column -----')\n",
    "print (x)\n",
    "print ('----- the transpose - now a row vector ----- ')\n",
    "print (x.T)"
   ]
  },
  {
   "cell_type": "markdown",
   "metadata": {},
   "source": [
    "##  Adding and subtracting vectors"
   ]
  },
  {
   "cell_type": "markdown",
   "metadata": {},
   "source": [
    "We add and subtract two vectors elementwise, with just one catch: in order to add/subtract two vectors they must have the same dimensions.  This means that in order to add/subtract two vectors they must have the same number of elements, and both must be row or column vectors."
   ]
  },
  {
   "cell_type": "markdown",
   "metadata": {},
   "source": [
    "For example, to add these two vectors\n",
    "\n",
    "$$\n",
    "\\mathbf{x} = {\\begin{bmatrix}\n",
    "2.1  \\\\\n",
    "-5.7 \\\\\n",
    "13 \\\\\n",
    "\\end{bmatrix}} \\,\\,\\,\\,\\,\\,\\,\\,\\,\\,\\,\\,\\,\\,\\,\\,\n",
    "\\mathbf{y} = {\\begin{bmatrix}\n",
    "4.3  \\\\\n",
    "9.2 \\\\\n",
    "13 \\\\\n",
    "\\end{bmatrix}}\n",
    "$$\n",
    "\n",
    "we add them element-wise\n",
    "\n",
    "$$\n",
    "\\mathbf{x} + \\mathbf{y} = {\\begin{bmatrix}\n",
    "2.1 + 4.3  \\\\\n",
    "-5.7 + 9.2 \\\\\n",
    "13 + 13 \\\\\n",
    "\\end{bmatrix}} = {\\begin{bmatrix}\n",
    "6.4  \\\\\n",
    "3.5 \\\\\n",
    "26 \\\\\n",
    "\\end{bmatrix}}\n",
    "$$"
   ]
  },
  {
   "cell_type": "markdown",
   "metadata": {},
   "source": [
    "We likewise subtract these two vectors as\n",
    "\n",
    "$$\n",
    "\\mathbf{x} - \\mathbf{y} = {\\begin{bmatrix}\n",
    "2.1 - 4.3  \\\\\n",
    "-5.7 - 9.2 \\\\\n",
    "13 - 13 \\\\\n",
    "\\end{bmatrix}} = {\\begin{bmatrix}\n",
    "-2.2  \\\\\n",
    "-14.9 \\\\\n",
    "0 \\\\\n",
    "\\end{bmatrix}}\n",
    "$$"
   ]
  },
  {
   "cell_type": "markdown",
   "metadata": {},
   "source": [
    "We can add / subtract vectors in numpy as shown in the next Python cell."
   ]
  },
  {
   "cell_type": "code",
   "execution_count": 7,
   "metadata": {},
   "outputs": [
    {
     "name": "stdout",
     "output_type": "stream",
     "text": [
      "*** x + y ***\n",
      "[[  6.4]\n",
      " [  3.5]\n",
      " [ 26. ]]\n",
      "*** x - y ***\n",
      "[[ -2.2]\n",
      " [-14.9]\n",
      " [  0. ]]\n"
     ]
    }
   ],
   "source": [
    "# define both x and y, make x a row vector and y a column vector\n",
    "x = np.asarray([2.1,-5.7,13])\n",
    "x.shape = (3,1)\n",
    "y = np.asarray([4.3, 9.2, 13])\n",
    "y.shape = (3,1)\n",
    "print ('*** x + y ***')\n",
    "print (x + y)\n",
    "print ('*** x - y ***')\n",
    "print (x - y)"
   ]
  },
  {
   "cell_type": "markdown",
   "metadata": {},
   "source": [
    "More generally to add two Nx1 column vectors \n",
    "\n",
    "$$\n",
    "\\mathbf{x} = {\\begin{bmatrix}\n",
    "x_1 \\\\\n",
    "x_2\\\\\n",
    "\\vdots \\\\\n",
    "x_N \\\\\n",
    "\\end{bmatrix}} \\,\\,\\,\\,\\,\\,\\,\\,\\,  \\mathbf{y} = {\\begin{bmatrix}\n",
    "y_1 \\\\\n",
    "y_2\\\\\n",
    "\\vdots \\\\\n",
    "y_N \\\\\n",
    "\\end{bmatrix}}\n",
    "$$\n",
    "\n",
    "we write \n",
    "\n",
    "$$\n",
    "\\mathbf{x} + \\mathbf{y} = {\\begin{bmatrix}\n",
    "x_1 + y_1 \\\\\n",
    "x_2 + y_2\\\\\n",
    "\\vdots \\\\\n",
    "x_N + y_N \\\\\n",
    "\\end{bmatrix}}\n",
    "$$\n",
    "\n",
    "and likewise for subtraction."
   ]
  },
  {
   "cell_type": "markdown",
   "metadata": {},
   "source": [
    "### Adding / subtracting two vectors of different dimensions"
   ]
  },
  {
   "cell_type": "markdown",
   "metadata": {},
   "source": [
    "Elementwise addition / subtraction is by far the most common type of addition/ subtraction used in practice with vectors, and is by default what we assume in the future when we say describe addition / subtraction of vectors unless stated otherwise.  "
   ]
  },
  {
   "cell_type": "markdown",
   "metadata": {},
   "source": [
    "Even if two vectors have the same number of elements, techically speaking we cannot add or subtract them if one is a row vector and the other is a column vector.  However with numpy it is possible to add two vectors of different shapes via numpy's built in [broadcasting](https://docs.scipy.org/doc/numpy-1.10.1/user/basics.broadcasting.html) operations.  \n",
    "\n",
    "For example if $\\mathbf{x}$ was a row vector\n",
    "\n",
    "$$\\mathbf{x} = [2.1, \\, \\, -5.7, \\, \\, 13]$$\n",
    "\n",
    "and $\\mathbf{y}$ was a column vector\n",
    "\n",
    "$$\\mathbf{y} = {\\begin{bmatrix}\n",
    "4.3  \\\\\n",
    "9.2 \\\\\n",
    "13 \\\\\n",
    "\\end{bmatrix}}\n",
    "$$\n",
    "\n",
    "addition/subtraction with $\\mathbf{y}$ would not be defined.  If we try this in numpy we will not throw an error, but return a matrix of values."
   ]
  },
  {
   "cell_type": "code",
   "execution_count": 8,
   "metadata": {},
   "outputs": [
    {
     "name": "stdout",
     "output_type": "stream",
     "text": [
      "*** x + y ***\n",
      "[[  6.4  -1.4  17.3]\n",
      " [ 11.3   3.5  22.2]\n",
      " [ 15.1   7.3  26. ]]\n"
     ]
    }
   ],
   "source": [
    "# turn x into a row vector\n",
    "x.shape = (1,3)\n",
    "\n",
    "# try to add x and y\n",
    "print ('*** x + y ***')\n",
    "print (x + y)"
   ]
  },
  {
   "cell_type": "markdown",
   "metadata": {},
   "source": [
    "Examining the matrix closely, you can see that what numpy has done here is make three copies of $\\mathbf{y}$, and added the first element of $\\mathbf{x}$ to each element of the first copy, added the second element of $\\mathbf{x}$ to the second copy, and the third element of $\\mathbf{x}$ to the third copy.  Numpy makes this sort of operation on $\\mathbf{x}$ and $\\mathbf{y}$ more convenient than having to use a for loop."
   ]
  },
  {
   "cell_type": "markdown",
   "metadata": {},
   "source": [
    "If we try to add / subtract two vectors of different lengths numpy will throw an error.  For example, in the next cell we try to add a vector with three elements to that has only two."
   ]
  },
  {
   "cell_type": "code",
   "execution_count": 9,
   "metadata": {},
   "outputs": [
    {
     "name": "stdout",
     "output_type": "stream",
     "text": [
      "*** x + y ***\n"
     ]
    },
    {
     "ename": "ValueError",
     "evalue": "operands could not be broadcast together with shapes (3,1) (2,1) ",
     "output_type": "error",
     "traceback": [
      "\u001b[0;31m---------------------------------------------------------------------------\u001b[0m",
      "\u001b[0;31mValueError\u001b[0m                                Traceback (most recent call last)",
      "\u001b[0;32m<ipython-input-9-8e27916c8150>\u001b[0m in \u001b[0;36m<module>\u001b[0;34m()\u001b[0m\n\u001b[1;32m      5\u001b[0m \u001b[0my\u001b[0m\u001b[0;34m.\u001b[0m\u001b[0mshape\u001b[0m \u001b[0;34m=\u001b[0m \u001b[0;34m(\u001b[0m\u001b[0;36m2\u001b[0m\u001b[0;34m,\u001b[0m\u001b[0;36m1\u001b[0m\u001b[0;34m)\u001b[0m\u001b[0;34m\u001b[0m\u001b[0m\n\u001b[1;32m      6\u001b[0m \u001b[0mprint\u001b[0m \u001b[0;34m(\u001b[0m\u001b[0;34m'*** x + y ***'\u001b[0m\u001b[0;34m)\u001b[0m\u001b[0;34m\u001b[0m\u001b[0m\n\u001b[0;32m----> 7\u001b[0;31m \u001b[0mprint\u001b[0m \u001b[0;34m(\u001b[0m\u001b[0mx\u001b[0m \u001b[0;34m+\u001b[0m \u001b[0my\u001b[0m\u001b[0;34m)\u001b[0m\u001b[0;34m\u001b[0m\u001b[0m\n\u001b[0m",
      "\u001b[0;31mValueError\u001b[0m: operands could not be broadcast together with shapes (3,1) (2,1) "
     ]
    }
   ],
   "source": [
    "# define both x and y, make x a row vector and y a column vector\n",
    "x = np.asarray([2.1,-5.7,13])\n",
    "x.shape = (3,1)\n",
    "y = np.asarray([4.3, 9.2])\n",
    "y.shape = (2,1)\n",
    "print ('*** x + y ***')\n",
    "print (x + y)"
   ]
  },
  {
   "cell_type": "markdown",
   "metadata": {},
   "source": [
    "### The geometric interpretation of element-wise vector addition"
   ]
  },
  {
   "cell_type": "markdown",
   "metadata": {},
   "source": [
    "Two-dimensions vectors are often represented geometrically by plotting each vector not as a point, but as an arrow stemming from the origin.  From this perspective the addition of two vectors can be seen to be (very nicely) always be equal to the vector representing the far corner of the parallelogram formed by the two vectors in the sum.  This is called the *parallelogram law*, and is illustrated by the Python cell below for any two user-defined input vectors. \n",
    "\n",
    "Here the two input vectors are colored black, with their sum shown in red.  Note the blue dashed lines are merely visual guides helping to outline the  parallelogram underlying the sum."
   ]
  },
  {
   "cell_type": "code",
   "execution_count": 3,
   "metadata": {},
   "outputs": [
    {
     "data": {
      "image/png": "[encoded data removed]",
      "text/plain": [
       "<Figure size 864x288 with 3 Axes>"
      ]
     },
     "metadata": {},
     "output_type": "display_data"
    }
   ],
   "source": [
    "# This code cell will not be shown in the HTML version of this notebook\n",
    "# import numpy, define two vectors, and add to see their sum visually\n",
    "import numpy as np\n",
    "vec1 = np.asarray([1,3])\n",
    "vec2 = np.asarray([-3,2])\n",
    "plotter = linlib.vector_plots.vector_add_plot(vec1,vec2)"
   ]
  },
  {
   "cell_type": "markdown",
   "metadata": {},
   "source": [
    "##  Vector multiplication"
   ]
  },
  {
   "cell_type": "markdown",
   "metadata": {},
   "source": [
    "### Multiplying a vector by a scalar"
   ]
  },
  {
   "cell_type": "markdown",
   "metadata": {},
   "source": [
    "We can multiply any vector by a scalar by treating the multiplication elementwise.  For example if \n",
    "\n",
    "$$\n",
    "\\mathbf{x} = {\\begin{bmatrix}\n",
    "2.1  \\\\\n",
    "-5.7 \\\\\n",
    "13 \\\\\n",
    "\\end{bmatrix}}\n",
    "$$\n",
    "\n",
    "then for any scalar $c$\n",
    "\n",
    "$$\n",
    "c\\times\\mathbf{x} = {\\begin{bmatrix}\n",
    "c\\times 2.1  \\\\\n",
    "c\\times-5.7 \\\\\n",
    "c\\times13 \\\\\n",
    "\\end{bmatrix}}\n",
    "$$"
   ]
  },
  {
   "cell_type": "markdown",
   "metadata": {},
   "source": [
    "And this is how scalar multiplication is done regardless of whether or not the vector is a row or column."
   ]
  },
  {
   "cell_type": "markdown",
   "metadata": {},
   "source": [
    "Using numpy we can use the standard multiplication operator to perform scalar-vector multiplication, as illustrated in the next cell."
   ]
  },
  {
   "cell_type": "code",
   "execution_count": 11,
   "metadata": {},
   "outputs": [
    {
     "name": "stdout",
     "output_type": "stream",
     "text": [
      "[  4.2 -11.4  26. ]\n"
     ]
    }
   ],
   "source": [
    "# define vector\n",
    "x = np.asarray([2.1,-5.7,13])\n",
    "\n",
    "# multiply by a constant\n",
    "c = 2\n",
    "print (c*x)"
   ]
  },
  {
   "cell_type": "markdown",
   "metadata": {},
   "source": [
    "This holds in general for a general $N\\times 1$ vector $\\mathbf{x}$ as well.\n",
    "\n",
    "$$\n",
    "c\\times\\mathbf{x} = {\\begin{bmatrix}\n",
    "c\\times x_1 \\\\\n",
    "c\\times x_2\\\\\n",
    "\\vdots \\\\\n",
    "c\\times x_N \\\\\n",
    "\\end{bmatrix}}\n",
    "$$"
   ]
  },
  {
   "cell_type": "markdown",
   "metadata": {},
   "source": [
    "### The elementwise product"
   ]
  },
  {
   "cell_type": "markdown",
   "metadata": {},
   "source": [
    "There are a number of ways to multiply two vectors - perhaps the most natural is the *elementwise product*.  This works precisely how it sounds: multiply two vectors of the same dimension element-by-element.  The former piece of this is important: just like addition, technically speaking we need both vectors to have the same dimension in order to make this work. \n",
    "\n",
    "To multiply two vectors element-wise"
   ]
  },
  {
   "cell_type": "markdown",
   "metadata": {},
   "source": [
    "$$\n",
    "\\mathbf{x} = {\\begin{bmatrix}\n",
    "x_1 \\\\\n",
    "x_2\\\\\n",
    "\\vdots \\\\\n",
    "x_N \\\\\n",
    "\\end{bmatrix}} \\,\\,\\,\\,\\,\\,\\,\\,\\,  \\mathbf{y} = {\\begin{bmatrix}\n",
    "y_1 \\\\\n",
    "y_2\\\\\n",
    "\\vdots \\\\\n",
    "y_N \\\\\n",
    "\\end{bmatrix}}\n",
    "$$\n",
    "\n",
    "we then write \n",
    "\n",
    "$$\n",
    "\\mathbf{x} \\times \\mathbf{y} = {\\begin{bmatrix}\n",
    "x_1 \\times y_1 \\\\\n",
    "x_2 \\times y_2\\\\\n",
    "\\vdots \\\\\n",
    "x_N \\times y_N \\\\\n",
    "\\end{bmatrix}}\n",
    "$$"
   ]
  },
  {
   "cell_type": "markdown",
   "metadata": {},
   "source": [
    "In numpy we use the natural multiplication operation '*' to perform elementwise multiplication between two vectors."
   ]
  },
  {
   "cell_type": "code",
   "execution_count": 12,
   "metadata": {},
   "outputs": [
    {
     "name": "stdout",
     "output_type": "stream",
     "text": [
      "[[   9.03]\n",
      " [ -52.44]\n",
      " [ 169.  ]]\n"
     ]
    }
   ],
   "source": [
    "# define vector\n",
    "x = np.asarray([2.1,-5.7,13])\n",
    "x.shape = (3,1)\n",
    "y = np.asarray([4.3, 9.2, 13])\n",
    "y.shape = (3,1)\n",
    "print (x*y)"
   ]
  },
  {
   "cell_type": "markdown",
   "metadata": {},
   "source": [
    "### The inner product"
   ]
  },
  {
   "cell_type": "markdown",
   "metadata": {},
   "source": [
    "The inner product is another way to multiply two vectors of the same dimension, and is the natural extension of multiplication of two scalar values in that this product produces a scalar output.  Here is how the inner product is defined: to take the inner product of two $N\\times1$ vectors we first multiply them together entry-wise, then add up the result.\n",
    "\n",
    "For two general vectors \n",
    "\n",
    "$$\n",
    "\\mathbf{x} = {\\begin{bmatrix}\n",
    "x_1 \\\\\n",
    "x_2\\\\\n",
    "\\vdots \\\\\n",
    "x_N \\\\\n",
    "\\end{bmatrix}} \\,\\,\\,\\,\\,\\,\\,\\,\\,  \\mathbf{y} = {\\begin{bmatrix}\n",
    "y_1 \\\\\n",
    "y_2\\\\\n",
    "\\vdots \\\\\n",
    "y_N \\\\\n",
    "\\end{bmatrix}}\n",
    "$$\n",
    "\n",
    "the inner product is written as $\\mathbf{x}^T \\mathbf{y}$ and is defined as\n",
    "\n",
    "$$\n",
    "\\mathbf{x}^T \\mathbf{y}= \\text{sum}\\left(\\mathbf{x}\\times \\mathbf{y}\\right)  =x_{1}y_{1}+x_{2}y_{2}+\\cdots x_{N}y_{N} = \\sum_{n=1}^Nx_ny_n\n",
    "$$"
   ]
  },
  {
   "cell_type": "markdown",
   "metadata": {},
   "source": [
    "The inner product is also often referred to as the 'dot' product, and written notationally as "
   ]
  },
  {
   "cell_type": "markdown",
   "metadata": {},
   "source": [
    "$$\n",
    "\\mathbf{x}\\odot\\mathbf{y}\n",
    "$$"
   ]
  },
  {
   "cell_type": "markdown",
   "metadata": {},
   "source": [
    "In the next cell we use numpy to take the inner product between two vectors.  Notice that we can write this out in at least two ways:\n",
    "\n",
    "1.  By using the transpose notation given above: ``np.dot(x.T,y)``\n",
    "2.  By using the element-wise product then sum notation: ``np.sum(x*y)``"
   ]
  },
  {
   "cell_type": "code",
   "execution_count": 13,
   "metadata": {},
   "outputs": [
    {
     "name": "stdout",
     "output_type": "stream",
     "text": [
      "125.59\n",
      "125.59\n"
     ]
    }
   ],
   "source": [
    "# define two column vectors and compute the inner product\n",
    "x = np.asarray([2.1,-5.7,13])\n",
    "x.shape = (3,1)\n",
    "y = np.asarray([4.3, 9.2, 13])\n",
    "y.shape = (3,1)\n",
    "\n",
    "# compute the inner product\n",
    "print (np.dot(x.T,y)[0][0])\n",
    "print(np.sum(x*y))"
   ]
  },
  {
   "cell_type": "markdown",
   "metadata": {},
   "source": [
    "### The inner product and the norm (or geometric length) of a vector"
   ]
  },
  {
   "cell_type": "markdown",
   "metadata": {},
   "source": [
    "The inner product (also commonly called the *correlation*) is also interesting because it helps define the geometric length of a vector.  Notice the result of multiplying a vector $\\mathbf{x}$ by itself\n",
    "\n",
    "$$\n",
    "\\mathbf{x}^T \\mathbf{x}= \\sum_{n=1}^Nx_nx_n = \\sum_{n=1}^Nx_n^2\n",
    "$$\n",
    "\n",
    "We square each element and sum the result.  Visualizing a vector - as we do in the next Python cell for a two-dimensional example - we can square this formula with a common elementary formula for the vector's length.  In the left panel below we show the 'point' view of a two-dimensional vector, and in the right panel the corresponding 'arrow' version.  Visual guides - drawn in dashed blue - are shown in each panel."
   ]
  },
  {
   "cell_type": "code",
   "execution_count": 14,
   "metadata": {},
   "outputs": [
    {
     "data": {
      "image/png": "[encoded data removed]",
      "text/plain": [
       "<matplotlib.figure.Figure at 0x116f00e10>"
      ]
     },
     "metadata": {},
     "output_type": "display_data"
    }
   ],
   "source": [
    "# This code cell will not be shown in the HTML version of this notebook\n",
    "# import numpy, define a vectors\n",
    "import numpy as np\n",
    "vec1 = np.asarray([3,3])\n",
    "plotter = linlib.vector_plots.single_plot(vec1,guides = True)"
   ]
  },
  {
   "cell_type": "markdown",
   "metadata": {},
   "source": [
    "If we treated this vector - say as drawn in the right panel - as the hypotonus of a right triangle, how would we calculate its length?  Using the *Pythagorean theorem* we would square the length of each side - i.e., the length of each blue guide - sum the result, and take the square root of this.  Or - denoting our two-dimensional vector more generally as \n",
    "\n",
    "$$\n",
    "\\mathbf{x} = {\\begin{bmatrix}\n",
    "x_1 \\\\\n",
    "x_2\\\\\n",
    "\\end{bmatrix}}\n",
    "$$\n",
    "\n",
    "then this computation becomes\n",
    "\n",
    "$$\n",
    "\\text{length of hypotonus (a.k.a. length of vector)} = \\sqrt{x_1^2 + x_2^2}\n",
    "$$"
   ]
  },
  {
   "cell_type": "markdown",
   "metadata": {},
   "source": [
    "In terms of the inner product we can write this length computation equivalently as \n",
    "\n",
    "$$\n",
    "\\sqrt{x_1^2 + x_2^2} = \\sqrt{\\mathbf{x}^T\\mathbf{x}}\n",
    "$$\n",
    "\n",
    "Therefore we can express the length of a vector in terms of the inner product with itself - and this generalizes to vectors of any length."
   ]
  },
  {
   "cell_type": "markdown",
   "metadata": {},
   "source": [
    "Thus the notation denoting the length of a vector $\\mathbf{x}$ being $\\lVert \\mathbf{x} \\rVert _2$, we can always compute the length as\n",
    "\n",
    "$$\n",
    "\\lVert \\mathbf{x} \\rVert _2 = \\sqrt{\\mathbf{x}^T\\mathbf{x}}\n",
    "$$"
   ]
  },
  {
   "cell_type": "markdown",
   "metadata": {},
   "source": [
    "### The geometric interpretation of the inner product"
   ]
  },
  {
   "cell_type": "markdown",
   "metadata": {},
   "source": [
    "The following beautiful formula - referred to as the *inner product rule* - holds for any two vectors $\\mathbf{x}$ and $\\mathbf{y}$  \n",
    "\n",
    "$$\n",
    "\\mathbf{x}^T\\mathbf{y} = \\lVert \\mathbf{x} \\rVert_2 \\lVert \\mathbf{y} \\rVert_2 \\text{cos}(\\theta)\n",
    "$$\n",
    "\n",
    "This rule - which can be formally proven using the *law of cosines* from trigonometry - is perhaps best intuited after a slight rearrangement of its terms, as follows.\n",
    "\n",
    "$$\n",
    "\\left(\\frac{\\mathbf{x}}{ \\lVert \\mathbf{x} \\rVert_2}\\right)^T \\left(\\frac{\\mathbf{y}}{ \\lVert \\mathbf{y} \\rVert_2} \\right)= \\text{cos}(\\theta)\n",
    "$$"
   ]
  },
  {
   "cell_type": "markdown",
   "metadata": {},
   "source": [
    "Here each input vector is normalized, i.e,. has length equal to one, and the formula can be interpreted as a smooth measurement of the angle $\\theta$ between these two vectors lying on the unit circle. \n",
    "\n",
    "Notice that because cosine lies between $-1$ and $+1$ so too does this measurement.  When the two vectors point in the exact same direction the value takes on $+1$, when they point in completely opposite directions $-1$.  When the two vectors are *perpendicular* to each other, their inner product is equal to zero.  \n",
    "\n",
    "The two extremes $\\pm 1$ are easy to verify - for example if $\\mathbf{x} = \\mathbf{y}$ then the two vectors overlap completely, pointing in the same direction and\n",
    "\n",
    "$$\n",
    "\\left(\\frac{\\mathbf{x}}{ \\lVert \\mathbf{x} \\rVert_2}\\right)^T \\left(\\frac{\\mathbf{x}}{ \\lVert \\mathbf{x} \\rVert_2} \\right)=  \\left(\\frac{\\mathbf{x}^T\\mathbf{x}}{ \\lVert \\mathbf{x} \\rVert_2^2} \\right)=\\left(\\frac{\\lVert \\mathbf{x} \\rVert_2^2}{ \\lVert \\mathbf{x} \\rVert_2^2} \\right) = +1\n",
    "$$"
   ]
  },
  {
   "cell_type": "markdown",
   "metadata": {},
   "source": [
    "In the next Python cell we animate the value of the inner product for two unit-length vectors using a slider widget.  The first $\\mathbf{x}_1 = \\begin{bmatrix} 1 \\\\ 0 \\end{bmatrix}$ is fixed, while the second is free to vary around the circle using the slider.  As the free vector rotates around the circle the corresponding inner product between it and the fixed vector is shown in the right panel.  Note how when the free vector is perpendicular to the fixed vector, the inner product is zero.  When they are pointed in completely opposite directions the inner product is $-1$, and when perfectly aligned $+1$. "
   ]
  },
  {
   "cell_type": "code",
   "execution_count": null,
   "metadata": {},
   "outputs": [],
   "source": [
    "# This code cell will not be shown in the HTML version of this notebook\n",
    "# illustrate the full range of the inner product for against the vector [1,0]\n",
    "start = 0.45  # where to start off on the unit circle\n",
    "savepath = 'videos/animation_1.mp4'\n",
    "linlib.transform_animators.inner_product_visualizer(savepath,num_frames = 200,start = start,fps=40)"
   ]
  },
  {
   "cell_type": "code",
   "execution_count": 3,
   "metadata": {},
   "outputs": [
    {
     "data": {
      "text/html": [
       "\n",
       "<video width=\"1000\" height=\"400\" controls loop>\n",
       "  <source src=\"videos/animation_1.mp4\" type=\"video/mp4\">\n",
       "  </video>\n"
      ],
      "text/plain": [
       "<IPython.core.display.HTML object>"
      ]
     },
     "execution_count": 3,
     "metadata": {},
     "output_type": "execute_result"
    }
   ],
   "source": [
    "## This code cell will not be shown in the HTML version of this notebook\n",
    "# load video into notebook\n",
    "from IPython.display import HTML\n",
    "HTML(\"\"\"\n",
    "<video width=\"1000\" height=\"400\" controls loop>\n",
    "  <source src=\"videos/animation_1.mp4\" type=\"video/mp4\">\n",
    "  </video>\n",
    "\"\"\")"
   ]
  },
  {
   "cell_type": "markdown",
   "metadata": {},
   "source": [
    "### The  outer product"
   ]
  },
  {
   "cell_type": "markdown",
   "metadata": {},
   "source": [
    "The **outer product** is another way to define multiplication between two vectors.  With two column vectors $\\mathbf{x}$ and $\\mathbf{y}$\n",
    "\n",
    "$$\n",
    "\\mathbf{x}=\\begin{bmatrix}\n",
    "x_{1}\\\\\n",
    "x_{2}\\\\\n",
    "\\vdots\\\\\n",
    "x_{N}\n",
    "\\end{bmatrix},\\,\\,\\,\\,\\,\\,\\,\\mathbf{y}=\\begin{bmatrix}\n",
    "y_{1}\\\\\n",
    "y_{2}\\\\\n",
    "\\vdots\\\\\n",
    "y_{M}\n",
    "\\end{bmatrix}\n",
    "$$\n",
    "\n",
    "their *outer product* is written as $\\mathbf{x}\\mathbf{y}^T$ and is defined as\n",
    "\n",
    "$\\mathbf{x}\\mathbf{y}^{T}=\\begin{bmatrix}\n",
    "x_{1}\\\\\n",
    "x_{2}\\\\\n",
    "\\vdots\\\\\n",
    "x_{N}\n",
    "\\end{bmatrix}\\begin{bmatrix}\n",
    "y_{1}\\\\\n",
    "y_{2}\\\\\n",
    "\\vdots\\\\\n",
    "y_{M}\n",
    "\\end{bmatrix}^{T}=\\begin{bmatrix}\n",
    "x_{1}y_{1} & x_{1}y_{2} & \\cdots & x_{1}y_{M}\\\\\n",
    "x_{2}y_{1} & x_{2}y_{2} & \\cdots & x_{2}y_{M}\\\\\n",
    "\\vdots & \\vdots & \\ddots & \\vdots\\\\\n",
    "x_{N}y_{1} & x_{N}y_{2} & \\cdots & x_{N}y_{M}\n",
    "\\end{bmatrix}$\n",
    "\n",
    "This is an $N\\times M$ *matrix* - which can be thought of as a collection of $M$ column vectors stacked side-by-side (or - likewise as a collection of $N$ row vectors stacked one on top of each other). We'll soon discuss matrices further."
   ]
  },
  {
   "cell_type": "markdown",
   "metadata": {},
   "source": [
    "In Python we can compute this outer product using the notation ``outer``."
   ]
  },
  {
   "cell_type": "code",
   "execution_count": 16,
   "metadata": {},
   "outputs": [
    {
     "name": "stdout",
     "output_type": "stream",
     "text": [
      "[[   9.03   19.32]\n",
      " [ -24.51  -52.44]\n",
      " [  55.9   119.6 ]]\n"
     ]
    }
   ],
   "source": [
    "# define vector\n",
    "x = np.asarray([2.1,-5.7,13])\n",
    "x.shape = (3,1)\n",
    "y = np.asarray([4.3, 9.2])\n",
    "y.shape = (2,1)\n",
    "print (np.outer(x,y.T))"
   ]
  },
  {
   "cell_type": "markdown",
   "metadata": {},
   "source": [
    "## Linear combination of vectors"
   ]
  },
  {
   "cell_type": "markdown",
   "metadata": {},
   "source": [
    "A linear combination is an operation that generalizes simple addition of two vectors by combining addition and scalar multiplication. Given two vectors $\\mathbf{x}_{1}$ and $\\mathbf{x}_{2}$ of the same dimension, their linear combination is formed by multiplying each with a scalar first and then adding up the result, as in    \n",
    "\n",
    "$$\\alpha_{1}\\mathbf{x}_{1}+\\alpha_{2}\\mathbf{x}_{2}$$\n",
    "\n",
    "where $\\alpha_{1}$ and $\\alpha_{2}$ are real numbers. Notice that for a given set of values for $\\alpha_{1}$ and $\\alpha_{2}$, the linear combination is a vector itself with the same dimension as $\\mathbf{x}_{1}$ and $\\mathbf{x}_{2}$. For instance with $\\alpha_{1}=2$ and $\\alpha_{2}=4$, the linear combination is given by\n",
    "\n",
    "$$2\\mathbf{x}_{1}+4\\mathbf{x}_{2}$$\n",
    "\n",
    "In the Python cell below we plot this linear combination for two-dimensional vectors $\\mathbf{x}_{1} = [2, \\, \\, 1]$ and $\\mathbf{x}_{2} = [-1, \\, \\, 2]$."
   ]
  },
  {
   "cell_type": "code",
   "execution_count": 17,
   "metadata": {},
   "outputs": [
    {
     "data": {
      "image/png": "[encoded data removed]",
      "text/plain": [
       "<matplotlib.figure.Figure at 0x11714e3c8>"
      ]
     },
     "metadata": {},
     "output_type": "display_data"
    }
   ],
   "source": [
    "# This code cell will not be shown in the HTML version of this notebook\n",
    "vec1 = np.asarray([2,1])\n",
    "vec2 = np.asarray([-1,2])\n",
    "alpha1 = 2\n",
    "alpha2 = 5\n",
    "\n",
    "plotter = linlib.vector_plots.vector_linear_combination_plot(vec1, vec2, alpha1, alpha2)"
   ]
  },
  {
   "cell_type": "markdown",
   "metadata": {},
   "source": [
    "Let's try a different set of values for $\\alpha_{1}$ and $\\alpha_{2}$."
   ]
  },
  {
   "cell_type": "code",
   "execution_count": 18,
   "metadata": {},
   "outputs": [
    {
     "data": {
      "image/png": "[encoded data removed]",
      "text/plain": [
       "<matplotlib.figure.Figure at 0x116ef83c8>"
      ]
     },
     "metadata": {},
     "output_type": "display_data"
    }
   ],
   "source": [
    "# This code cell will not be shown in the HTML version of this notebook\n",
    "vec1 = np.asarray([2,1])\n",
    "vec2 = np.asarray([-1,2])\n",
    "alpha1 = 4\n",
    "alpha2 = 1.5\n",
    "\n",
    "plotter = linlib.vector_plots.vector_linear_combination_plot(vec1, vec2, alpha1, alpha2)"
   ]
  },
  {
   "cell_type": "markdown",
   "metadata": {},
   "source": [
    "Indeed by changing the values of $\\alpha_{1}$ and $\\alpha_{2}$ in $\\alpha_{1}\\mathbf{x}_{1}+\\alpha_{2}\\mathbf{x}_{2}$ each time we get a new vector (or point) that is a linear combination of $\\mathbf{x}_{1}$ and $\\mathbf{x}_{2}$. "
   ]
  },
  {
   "cell_type": "code",
   "execution_count": null,
   "metadata": {},
   "outputs": [],
   "source": [
    "# This code cell will not be shown in the HTML version of this notebook\n",
    "# animate a two-dimensional spanning set ranging over a coarse set of points in the space\n",
    "C = np.array([[2,-1],[1,2]])\n",
    "savepath='videos/animation_2.mp4'\n",
    "linlib.span_animation.perfect_visualize(savepath,C=C,num_frames = 200,fps=10)"
   ]
  },
  {
   "cell_type": "code",
   "execution_count": 12,
   "metadata": {},
   "outputs": [
    {
     "data": {
      "text/html": [
       "\n",
       "<video width=\"1000\" height=\"400\" controls loop>\n",
       "  <source src=\"videos/animation_2.mp4\" type=\"video/mp4\">\n",
       "  </video>\n"
      ],
      "text/plain": [
       "<IPython.core.display.HTML object>"
      ]
     },
     "execution_count": 12,
     "metadata": {},
     "output_type": "execute_result"
    }
   ],
   "source": [
    "## This code cell will not be shown in the HTML version of this notebook\n",
    "# load video into notebook\n",
    "from IPython.display import HTML\n",
    "HTML(\"\"\"\n",
    "<video width=\"1000\" height=\"400\" controls loop>\n",
    "  <source src=\"videos/animation_2.mp4\" type=\"video/mp4\">\n",
    "  </video>\n",
    "\"\"\")"
   ]
  },
  {
   "cell_type": "markdown",
   "metadata": {},
   "source": [
    "The set of all such vectors/points - created by taking a linear combination of vectors $\\mathbf{x}_{1}$ and $\\mathbf{x}_{2}$ - is referred to as the span of $\\mathbf{x}_{1}$ and $\\mathbf{x}_{2}$. In the example above the span of vectors $\\mathbf{x}_{1}$ and $\\mathbf{x}_{2}$ is the entire 2D plane, or put in different words, $\\mathbf{x}_{1}$ and $\\mathbf{x}_{2}$ span the 2D plane.\n",
    "\n",
    "But isn't the span of two $1\\times 2$ vectors always the entire 2D plane? Not necessarily! Take the two vectors $\\mathbf{x}_{1} = [2, \\, \\, 1]$ and $\\mathbf{x}_{2} = [4, \\, \\, 2]$ for example. Because these two vectors point at the same direction (one is a scalar multiple of the other), any linear combination of the two will have the same direction. Let's verify this by looking at a couple of examples.    "
   ]
  },
  {
   "cell_type": "code",
   "execution_count": 20,
   "metadata": {},
   "outputs": [
    {
     "data": {
      "image/png": "[encoded data removed]",
      "text/plain": [
       "<matplotlib.figure.Figure at 0x1172b9438>"
      ]
     },
     "metadata": {},
     "output_type": "display_data"
    }
   ],
   "source": [
    "## This code cell will not be shown in the HTML version of this notebook\n",
    "vec1 = np.asarray([2,1])\n",
    "vec2 = np.asarray([4,2])\n",
    "alpha1 = .5\n",
    "alpha2 = 2\n",
    "\n",
    "plotter = linlib.vector_plots.vector_linear_combination_plot(vec1, vec2, alpha1, alpha2)"
   ]
  },
  {
   "cell_type": "code",
   "execution_count": 21,
   "metadata": {},
   "outputs": [
    {
     "data": {
      "image/png": "[encoded data removed]",
      "text/plain": [
       "<matplotlib.figure.Figure at 0x117232c88>"
      ]
     },
     "metadata": {},
     "output_type": "display_data"
    }
   ],
   "source": [
    "## This code cell will not be shown in the HTML version of this notebook\n",
    "vec1 = np.asarray([2,1])\n",
    "vec2 = np.asarray([4,2])\n",
    "alpha1 = 1\n",
    "alpha2 = -2\n",
    "\n",
    "plotter = linlib.vector_plots.vector_linear_combination_plot(vec1, vec2, alpha1, alpha2)"
   ]
  },
  {
   "cell_type": "markdown",
   "metadata": {},
   "source": [
    "So in this case the linear combination of $\\mathbf{x}_{1} = [2, \\, \\, 1]$ and $\\mathbf{x}_{2} = [4, \\, \\, 2]$ is just a line that can be traced out using scalar multiples of any of the two vectors. In other words, given either one of $\\mathbf{x}_{1}$ or $\\mathbf{x}_{2}$ the other one becomes redundant. In linear algebra jargon, such vectors are called linearly dependent. \n",
    "\n",
    "The notion of linear combination of vectors can be extended in general to a set of $k$ vectors $\\left\\{\\mathbf{x}_{1}, \\mathbf{x}_{2}, \\ldots,\\mathbf{x}_{k}\\right\\}$, all of the same dimension, taking the form\n",
    "\n",
    "$$\\sum_{i=1}^k \\alpha_{i}\\mathbf{x}_{i}=\\alpha_{1}\\mathbf{x}_{1}+\\alpha_{2}\\mathbf{x}_{2}+\\cdots+\\alpha_{k}\\mathbf{x}_{k}$$\n",
    "\n",
    "If these vectors span a k-dimensional space they are called linearly independent. Otherwise there is at least one vector in the set that can be written as a linear combination of the rest. "
   ]
  },
  {
   "cell_type": "markdown",
   "metadata": {},
   "source": [
    "#  Matrices and matrix operations"
   ]
  },
  {
   "cell_type": "markdown",
   "metadata": {},
   "source": [
    "In this Section we introduce the concept of a matrix as well as the basic operations one can perform on a single matrix or pairs of matrices.  These completely mirror those of the vector, including the transpose operation, addition/subtraction, and several multiplication operations including the inner, outer, and element-wise products.  Because of the close similarity to vectors this Section is much more terse than the previous. "
   ]
  },
  {
   "cell_type": "markdown",
   "metadata": {},
   "source": [
    "##  Basic ideas"
   ]
  },
  {
   "cell_type": "markdown",
   "metadata": {},
   "source": [
    "If we take a set of $P$ row vectors - each of dimension $1\\times N$ "
   ]
  },
  {
   "cell_type": "markdown",
   "metadata": {},
   "source": [
    "$$\\mathbf{x}_{1}=\\left[\\begin{array}{cccc}\n",
    "x_{11} & x_{12} & \\cdots & x_{1N}\\end{array}\\right]$$\n",
    "\n",
    "$$\\mathbf{x}_{2}=\\left[\\begin{array}{cccc}\n",
    "x_{21} & x_{22} & \\cdots & x_{2N}\\end{array}\\right]$$\n",
    "\n",
    "$$\\vdots$$\n",
    "\n",
    "$$\\mathbf{x}_{P}=\\left[\\begin{array}{cccc}\n",
    "x_{P1} & x_{P2} & \\cdots & x_{PN}\\end{array}\\right]$$"
   ]
  },
  {
   "cell_type": "markdown",
   "metadata": {},
   "source": [
    "and stack them one-by-one on top of each other we form a *matrix* of dimension $P\\times N$\n",
    "\n",
    "\n",
    "$$\n",
    "\\mathbf{X}= \\begin{bmatrix}\n",
    "x_{11} & x_{12} & \\cdots & x_{1N}\\\\\n",
    "x_{21} & x_{22} & \\cdots & x_{2N}\\\\\n",
    "\\vdots & \\vdots & \\ddots & \\vdots\\\\\n",
    "x_{P1} & x_{P2} & \\cdots & x_{PN}\n",
    "\\end{bmatrix}\n",
    "$$"
   ]
  },
  {
   "cell_type": "markdown",
   "metadata": {},
   "source": [
    "In interpreting the dimension $P\\times N$ the first number $P$ is the number of rows in the matrix, with the second number $N$ denoting the number of columns.\n",
    "\n",
    "The notation we use to describe a matrix is a bold uppercase letter, as with $\\mathbf{X}$ above.  Like the vector notation nothing about the dimensions of the matrix is detailed by its notation - we need to explicitly state these."
   ]
  },
  {
   "cell_type": "markdown",
   "metadata": {},
   "source": [
    "The *transpose* operation we originally saw for vectors is defined by extension for matrices.  When performed on a matrix the transpose operation flips the entire array around - every column is turned into a row, and then these rows are stacked one on top of the other forming a $N\\times P$ matrix.  The same notation used previously for vectors - a superscript $T$ - is used to denote the transpose of a matrix\n",
    "\n",
    "$$\n",
    "\\mathbf{X} ^T= \\begin{bmatrix}\n",
    "x_{11} & x_{21} & \\cdots & x_{P1}\\\\\n",
    "x_{12} & x_{22} & \\cdots & x_{P2}\\\\\n",
    "\\vdots & \\vdots & \\ddots & \\vdots\\\\\n",
    "x_{1N} & x_{2N} & \\cdots & x_{PN}\n",
    "\\end{bmatrix}\n",
    "$$"
   ]
  },
  {
   "cell_type": "markdown",
   "metadata": {},
   "source": [
    "In numpy we define matrices just as we do with arrays, and the same notation is used to transpose the matrix.  We illustrate this with an example in the next  Python cell."
   ]
  },
  {
   "cell_type": "code",
   "execution_count": 22,
   "metadata": {},
   "outputs": [
    {
     "name": "stdout",
     "output_type": "stream",
     "text": [
      "----- the matrix X -----\n",
      "[[1 3 1]\n",
      " [2 5 1]]\n",
      "----- the transpose matrix X^T -----\n",
      "[[1 2]\n",
      " [3 5]\n",
      " [1 1]]\n"
     ]
    }
   ],
   "source": [
    "# create a 2x3 matrix\n",
    "X = np.array([[1,3,1],[2,5,1]])\n",
    "print ('----- the matrix X -----')\n",
    "print (X) \n",
    "\n",
    "# transpose the matrix\n",
    "print ('----- the transpose matrix X^T -----')\n",
    "print (X.T) "
   ]
  },
  {
   "cell_type": "markdown",
   "metadata": {},
   "source": [
    "##  Addition and subtraction of matrices"
   ]
  },
  {
   "cell_type": "markdown",
   "metadata": {},
   "source": [
    "Addition and subtraction of matrices is performed element-wise, just as with vectors.  As with vectors two matrices must have the same dimensions in order to perform addition/subtraction on two matrices.  For example with two $P\\times N$ matrices\n",
    "\n",
    "$$\n",
    "\\mathbf{X}=\\begin{bmatrix}\n",
    "x_{11} & x_{12} & \\cdots & x_{1N}\\\\\n",
    "x_{21} & x_{22} & \\cdots & x_{2N}\\\\\n",
    "\\vdots & \\vdots & \\ddots & \\vdots\\\\\n",
    "x_{P1} & x_{P2} & \\cdots & x_{PN}\n",
    "\\end{bmatrix} \\,\\,\\,\\,\\,\\,\\,\\,\\,  \\mathbf{Y}=\\begin{bmatrix}\n",
    "y_{11} & y_{12} & \\cdots & y_{1N}\\\\\n",
    "y_{21} & y_{22} & \\cdots & y_{2N}\\\\\n",
    "\\vdots & \\vdots & \\ddots & \\vdots\\\\\n",
    "y_{P1} & y_{P2} & \\cdots & y_{PN}\n",
    "\\end{bmatrix}\n",
    "$$\n",
    "\n",
    "their element-wise sum is\n",
    "\n",
    "$$\n",
    "\\mathbf{X}+\\mathbf{Y}=\\begin{bmatrix}\n",
    "x_{11}+y_{11} & x_{12}+y_{12} & \\cdots & x_{1N}+y_{1N}\\\\\n",
    "x_{21}+y_{21} & x_{22}+y_{22} & \\cdots & x_{2N}+y_{2N}\\\\\n",
    "\\vdots & \\vdots & \\ddots & \\vdots\\\\\n",
    "x_{P1}+y_{P1} & x_{P2}+y_{P2} & \\cdots & x_{PN}+y_{PN}\n",
    "\\end{bmatrix}\n",
    "$$"
   ]
  },
  {
   "cell_type": "markdown",
   "metadata": {},
   "source": [
    "Addition / subtraction of matrices using numpy is very done precisely as with vectors - with numpy both are referred to as *arrays*."
   ]
  },
  {
   "cell_type": "code",
   "execution_count": 23,
   "metadata": {},
   "outputs": [
    {
     "name": "stdout",
     "output_type": "stream",
     "text": [
      "----- the matrix X -----\n",
      "[[1 3 1]\n",
      " [2 5 1]]\n",
      "----- the matrix Y -----\n",
      "[[ 5  9 14]\n",
      " [ 1  2  1]]\n",
      "----- the matrix X + Y -----\n",
      "[[ 6 12 15]\n",
      " [ 3  7  2]]\n"
     ]
    }
   ],
   "source": [
    "# create two matrices\n",
    "X = np.array([[1,3,1],[2,5,1]])\n",
    "Y = np.array([[5,9,14],[1,2,1]])\n",
    "print ('----- the matrix X -----')\n",
    "print (X) \n",
    "print ('----- the matrix Y -----')\n",
    "print (Y)\n",
    "\n",
    "# add  matrices\n",
    "print ('----- the matrix X + Y -----')\n",
    "print (X + Y)"
   ]
  },
  {
   "cell_type": "markdown",
   "metadata": {},
   "source": [
    "## Multplication"
   ]
  },
  {
   "cell_type": "markdown",
   "metadata": {},
   "source": [
    "### Multiplication by a scalar"
   ]
  },
  {
   "cell_type": "markdown",
   "metadata": {},
   "source": [
    "As with vectors we can multiply a matrix by a scalar - and this operation is performed element-by-element.  For any scalar value $c$ we write scalar multiplication as \n",
    "\n",
    "$$\n",
    "c\\times\\mathbf{X}=\\begin{bmatrix}\n",
    "c\\times x_{11} & c\\times x_{12} & \\cdots & c\\times x_{1N}\\\\\n",
    "c\\times x_{21} & c\\times x_{22} & \\cdots & c\\times x_{2N}\\\\\n",
    "\\vdots & \\vdots & \\ddots & \\vdots\\\\\n",
    "c\\times x_{P1} & c\\times x_{P2} & \\cdots & c\\times x_{PN}\n",
    "\\end{bmatrix}\n",
    "$$"
   ]
  },
  {
   "cell_type": "markdown",
   "metadata": {},
   "source": [
    "In numpy scalar multiplication can be written very naturally using the '*' symbol, as illustrated in the next Python cell."
   ]
  },
  {
   "cell_type": "code",
   "execution_count": 24,
   "metadata": {},
   "outputs": [
    {
     "name": "stdout",
     "output_type": "stream",
     "text": [
      "[[ 2  6  2]\n",
      " [ 4 10  2]]\n"
     ]
    }
   ],
   "source": [
    "# define a matrix\n",
    "X = np.array([[1,3,1],[2,5,1]])\n",
    "c = 2\n",
    "print (c*X)"
   ]
  },
  {
   "cell_type": "markdown",
   "metadata": {},
   "source": [
    "### Multiplication of a matrix by a vector"
   ]
  },
  {
   "cell_type": "markdown",
   "metadata": {},
   "source": [
    "Generally speaking there are two ways to multiply an $P\\times N$ matrix $\\mathbf{X}$ by a vector $\\mathbf{a}$.  The first - referred to as *left multiplication* - involves multiplication by $1\\times P$ row vector $\\mathbf{a}$.  This operation is written $\\mathbf{a}\\mathbf{X} = \\mathbf{b}$, with $\\mathbf{b}$ being a $1\\times N$ dimensional vector.  It is defined by taking the inner product of $\\mathbf{a}$ with each column of $\\mathbf{X}$.\n",
    "\n",
    "$$\n",
    "\\mathbf{a}\\mathbf{X} = \\mathbf{b} = \n",
    "\\begin{bmatrix}\n",
    "\\sum_{p=1}^P a_px_{p1} \\,\\,\\,\\,\\,\n",
    "\\sum_{p=1}^P a_px_{p2} \\,\\,\\,\\,\\, \n",
    "\\cdots \\,\\,\\,\\,\\,\n",
    "\\sum_{p=1}^P a_px_{pN} \n",
    "\\end{bmatrix}\n",
    "$$"
   ]
  },
  {
   "cell_type": "markdown",
   "metadata": {},
   "source": [
    "Since this multiplication consists of a sequence of inner products, we can use the inner or dot product notation in numpy to compute a left multiplication as illustrated in the next cell."
   ]
  },
  {
   "cell_type": "code",
   "execution_count": 25,
   "metadata": {},
   "outputs": [
    {
     "name": "stdout",
     "output_type": "stream",
     "text": [
      "[[3 8 2]]\n"
     ]
    }
   ],
   "source": [
    "# define a matrix\n",
    "X = np.array([[1,3,1],[2,5,1]])\n",
    "a = np.array([1,1])\n",
    "a.shape = (1,2)\n",
    "\n",
    "# compute a left multiplication\n",
    "print (np.dot(a,X))"
   ]
  },
  {
   "cell_type": "markdown",
   "metadata": {},
   "source": [
    "Right multiplication is defined by multiplying $\\mathbf{X}$ on the right by a $N\\times 1$ vector $\\mathbf{a}$.  Right multiplication is written as $\\mathbf{X}\\mathbf{a} = \\mathbf{b}$ and $\\mathbf{b}$ will be a $P\\times 1$ vector.  The right product is defined as \n",
    "\n",
    "$$\n",
    "\\mathbf{X}\\mathbf{a} = \\mathbf{b} = \n",
    "\\begin{bmatrix}\n",
    "\\sum_{n=1}^N a_nx_{1n} \\\\\n",
    "\\sum_{n=1}^N a_nx_{2n} \\\\ \n",
    "\\vdots \\\\\n",
    "\\sum_{n=1}^N a_nx_{Pn} \n",
    "\\end{bmatrix}\n",
    "$$"
   ]
  },
  {
   "cell_type": "markdown",
   "metadata": {},
   "source": [
    "Since the right multiplication also consists of a sequence of inner products, we can use the inner or dot product notation in numpy to compute a right multiplication as illustrated in the next cell."
   ]
  },
  {
   "cell_type": "code",
   "execution_count": 26,
   "metadata": {},
   "outputs": [
    {
     "name": "stdout",
     "output_type": "stream",
     "text": [
      "[[5]\n",
      " [8]]\n"
     ]
    }
   ],
   "source": [
    "# define a matrix\n",
    "X = np.array([[1,3,1],[2,5,1]])\n",
    "a = np.array([1,1,1])\n",
    "a.shape = (3,1)\n",
    "\n",
    "# compute a right multiplication\n",
    "print (np.dot(X,a))"
   ]
  },
  {
   "cell_type": "markdown",
   "metadata": {
    "collapsed": true
   },
   "source": [
    "### Element-wise multiplication of two matrices"
   ]
  },
  {
   "cell_type": "markdown",
   "metadata": {},
   "source": [
    "As with vectors, we can define element-wise multiplication on two matrices of the same size.  Multiplying two $P\\times N$ matrices $\\mathbf{x}$ and $\\mathbf{y}$ together gives"
   ]
  },
  {
   "cell_type": "markdown",
   "metadata": {},
   "source": [
    "$$\n",
    "\\mathbf{X}\\times \\mathbf{Y}=\\begin{bmatrix}\n",
    "x_{11}\\times y_{11} & x_{12}\\times y_{12} & \\cdots & x_{1N}+y_{1N}\\\\\n",
    "x_{21}\\times y_{21} & x_{22}\\times y_{22} & \\cdots & x_{2N}+y_{2N}\\\\\n",
    "\\vdots & \\vdots & \\ddots & \\vdots\\\\\n",
    "x_{P1}\\times y_{P1} & x_{P2}\\times y_{P2} & \\cdots & x_{PN}+y_{PN}\n",
    "\\end{bmatrix}\n",
    "$$"
   ]
  },
  {
   "cell_type": "markdown",
   "metadata": {},
   "source": [
    "This can be easily computed in numpy, as illustrated in the next Python cell for two small example matrices."
   ]
  },
  {
   "cell_type": "code",
   "execution_count": 27,
   "metadata": {},
   "outputs": [
    {
     "name": "stdout",
     "output_type": "stream",
     "text": [
      "----- the matrix X -----\n",
      "[[1 3 1]\n",
      " [2 5 1]]\n",
      "----- the matrix Y -----\n",
      "[[ 5  9 14]\n",
      " [ 1  2  1]]\n",
      "----- the matrix X * Y -----\n",
      "[[ 5 27 14]\n",
      " [ 2 10  1]]\n"
     ]
    }
   ],
   "source": [
    "# create two matrices\n",
    "X = np.array([[1,3,1],[2,5,1]])\n",
    "Y = np.array([[5,9,14],[1,2,1]])\n",
    "print ('----- the matrix X -----')\n",
    "print (X) \n",
    "print ('----- the matrix Y -----')\n",
    "print (Y)\n",
    "\n",
    "# add  matrices\n",
    "print ('----- the matrix X * Y -----')\n",
    "print (X*Y)"
   ]
  },
  {
   "cell_type": "markdown",
   "metadata": {},
   "source": [
    "### General multiplication of two matrices"
   ]
  },
  {
   "cell_type": "markdown",
   "metadata": {},
   "source": [
    "The regular product (or simply product) of two matrices $\\mathbf{X}$ and $\\mathbf{Y}$ can be defined based on the vector outer product operation, provided that the number of columns in $\\mathbf{X}$ matches the number of rows in $\\mathbf{Y}$. That is, we must have $\\mathbf{X}$ and $\\mathbf{Y}$ of sizes $P\\times N$ and $N \\times Q$ respectively, for the matrix product to be defined as \n",
    "\n",
    "$$\\mathbf{XY}= \\sum_{n=1}^N \\mathbf{x}_{n}\\mathbf{y}_{n}^{T}$$\n",
    "\n",
    "where $\\mathbf{x}_{n}$ is the $n^{th}$ column of $\\mathbf{X}$, and $\\mathbf{y}_{n}^{T}$ is the transpose of the $n^{th}$ column of $\\mathbf{Y}^{T}$ (or equivalently, the $n^{th}$ row of $\\mathbf{Y}$). Note that each summand above is an outer-product matrix of size $P \\times Q$, and so too is the final matrix $\\mathbf{XY}$.\n",
    "\n",
    "Matrix multplication can also be defined entry-wise, using vector inner-products, where the entry in the $p^{th}$ row and $q^{th}$ column of $\\mathbf{XY}$ can be found as the inner-product of (transpose of) the $p^{th}$ row in $\\mathbf{X}$ and the $q^{th}$ column in $\\mathbf{Y}$.\n",
    "\n",
    "$$\\left(\\mathbf{XY}\\right)_{p,q}= \\mathbf{x}_{p}^{T}\\mathbf{y}_{q}$$"
   ]
  },
  {
   "cell_type": "code",
   "execution_count": 28,
   "metadata": {},
   "outputs": [
    {
     "name": "stdout",
     "output_type": "stream",
     "text": [
      "----- the matrix X -----\n",
      "[[1 3 1]\n",
      " [2 5 1]]\n",
      "----- the matrix Y -----\n",
      "[[ 5  1]\n",
      " [ 9  2]\n",
      " [14  1]]\n",
      "----- the matrix XY -----\n",
      "[[46  8]\n",
      " [69 13]]\n"
     ]
    }
   ],
   "source": [
    "# create two matrices\n",
    "X = np.array([[1,3,1],[2,5,1]])\n",
    "Y = np.array([[5,9,14],[1,2,1]])\n",
    "Y = np.array([[5,1],[9,2],[14,1]])\n",
    "print ('----- the matrix X -----')\n",
    "print (X) \n",
    "print ('----- the matrix Y -----')\n",
    "print (Y)\n",
    "\n",
    "# add  matrices\n",
    "print ('----- the matrix XY -----')\n",
    "print (np.dot(X,Y))"
   ]
  }
 ],
 "metadata": {
  "anaconda-cloud": {},
  "kernelspec": {
   "display_name": "Python 3",
   "language": "python",
   "name": "python3"
  },
  "language_info": {
   "codemirror_mode": {
    "name": "ipython",
    "version": 3
   },
   "file_extension": ".py",
   "mimetype": "text/x-python",
   "name": "python",
   "nbconvert_exporter": "python",
   "pygments_lexer": "ipython3",
   "version": "3.6.6"
  },
  "toc": {
   "colors": {
    "hover_highlight": "#DAA520",
    "navigate_num": "#000000",
    "navigate_text": "#333333",
    "running_highlight": "#FF0000",
    "selected_highlight": "#FFD700",
    "sidebar_border": "#EEEEEE",
    "wrapper_background": "#FFFFFF"
   },
   "moveMenuLeft": true,
   "nav_menu": {
    "height": "509px",
    "width": "252px"
   },
   "navigate_menu": true,
   "number_sections": false,
   "sideBar": true,
   "threshold": 4,
   "toc_cell": false,
   "toc_position": {
    "height": "631.733px",
    "left": "0px",
    "right": "1228px",
    "top": "116.267px",
    "width": "212px"
   },
   "toc_section_display": "block",
   "toc_window_display": false,
   "widenNotebook": false
  },
  "widgets": {
   "application/vnd.jupyter.widget-state+json": {
    "state": {},
    "version_major": 1,
    "version_minor": 0
   }
  }
 },
 "nbformat": 4,
 "nbformat_minor": 1
}
